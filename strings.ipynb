{
 "cells": [
  {
   "cell_type": "code",
   "execution_count": 1,
   "metadata": {},
   "outputs": [
    {
     "name": "stdout",
     "output_type": "stream",
     "text": [
      "subhadra upadhyay\n",
      "<class 'str'>\n"
     ]
    }
   ],
   "source": [
    "a = \"subhadra upadhyay\"\n",
    "print(a)\n",
    "print(type(a))\n"
   ]
  },
  {
   "cell_type": "code",
   "execution_count": 17,
   "metadata": {},
   "outputs": [
    {
     "name": "stdout",
     "output_type": "stream",
     "text": [
      "False\n",
      "<class 'int'>\n"
     ]
    }
   ],
   "source": [
    "a = 33\n",
    "b = 332\n",
    "print(a<-b)\n",
    "print(type(a+b))"
   ]
  },
  {
   "cell_type": "code",
   "execution_count": 2,
   "metadata": {},
   "outputs": [
    {
     "name": "stdout",
     "output_type": "stream",
     "text": [
      "Jay Shree Ram\n",
      "<class 'str'>\n"
     ]
    }
   ],
   "source": [
    "b = 'Jay Shree Ram'\n",
    "print(b)\n",
    "print(type(b))"
   ]
  },
  {
   "cell_type": "code",
   "execution_count": 3,
   "metadata": {},
   "outputs": [
    {
     "name": "stdout",
     "output_type": "stream",
     "text": [
      " the monster was 20' feet tall\n"
     ]
    }
   ],
   "source": [
    "c = \" the monster was 20' feet tall\"\n",
    "print(c)"
   ]
  },
  {
   "cell_type": "code",
   "execution_count": 20,
   "metadata": {},
   "outputs": [
    {
     "name": "stdout",
     "output_type": "stream",
     "text": [
      "i shrank the monster to 1\" by my shrinking gun\n",
      "<class 'str'>\n"
     ]
    }
   ],
   "source": [
    "c = 'i shrank the monster to 1\" by my shrinking gun'\n",
    "print(c)\n",
    "print(type(c))"
   ]
  },
  {
   "cell_type": "code",
   "execution_count": 5,
   "metadata": {},
   "outputs": [
    {
     "name": "stdout",
     "output_type": "stream",
     "text": [
      "Ram RAm RAm\n",
      "Ram Ram Ram\n"
     ]
    }
   ],
   "source": [
    "d = \"\"\"Ram RAm RAm\n",
    "Ram Ram Ram\"\"\"\n",
    "print(d)\n"
   ]
  },
  {
   "cell_type": "markdown",
   "metadata": {},
   "source": [
    "# String-> what u neet to know\n",
    "1. indexing in string\n",
    "2. functions"
   ]
  },
  {
   "cell_type": "code",
   "execution_count": 6,
   "metadata": {},
   "outputs": [
    {
     "name": "stdout",
     "output_type": "stream",
     "text": [
      "str = digipodium\n",
      "str[0] =  d\n",
      "str[1] =  i\n",
      "str[-1] =  m\n"
     ]
    }
   ],
   "source": [
    "# Accessing string characters in python\n",
    "str = 'digipodium'\n",
    "print('str =', str)\n",
    "\n",
    "# frist character\n",
    "print('str[0] = ', str[0])\n",
    "\n",
    "# second character\n",
    "print('str[1] = ', str[1])\n",
    "\n",
    "# last character\n",
    "print('str[-1] = ',str[-1])\n",
    "\n"
   ]
  },
  {
   "cell_type": "code",
   "execution_count": 7,
   "metadata": {},
   "outputs": [],
   "source": [
    "name = \"William shakepear\""
   ]
  },
  {
   "cell_type": "code",
   "execution_count": 8,
   "metadata": {},
   "outputs": [
    {
     "data": {
      "text/plain": [
       "'a'"
      ]
     },
     "execution_count": 8,
     "metadata": {},
     "output_type": "execute_result"
    }
   ],
   "source": [
    "name[-2]"
   ]
  },
  {
   "cell_type": "code",
   "execution_count": 12,
   "metadata": {},
   "outputs": [
    {
     "data": {
      "text/plain": [
       "'Will'"
      ]
     },
     "execution_count": 12,
     "metadata": {},
     "output_type": "execute_result"
    }
   ],
   "source": [
    "name[0]+name[1]+name[2]+name[3]"
   ]
  },
  {
   "cell_type": "markdown",
   "metadata": {},
   "source": [
    "String Slicing\n"
   ]
  },
  {
   "cell_type": "code",
   "execution_count": 9,
   "metadata": {},
   "outputs": [
    {
     "name": "stdout",
     "output_type": "stream",
     "text": [
      "<class 'slice'>\n"
     ]
    }
   ],
   "source": [
    "# getting  a slicing\n",
    "s = 'digipodium'\n",
    "slice1 = s[4:7]\n",
    "print(slice)"
   ]
  },
  {
   "cell_type": "code",
   "execution_count": 15,
   "metadata": {},
   "outputs": [
    {
     "name": "stdout",
     "output_type": "stream",
     "text": [
      "Shakespear\n"
     ]
    }
   ],
   "source": [
    "s = 'Shakespear'\n",
    "slice1 = s[-5:-1]\n",
    "print (s)"
   ]
  },
  {
   "cell_type": "code",
   "execution_count": 17,
   "metadata": {},
   "outputs": [
    {
     "name": "stdout",
     "output_type": "stream",
     "text": [
      "spea\n"
     ]
    }
   ],
   "source": [
    "fruit = name [-5:-1]\n",
    "print (fruit)"
   ]
  },
  {
   "cell_type": "code",
   "execution_count": 16,
   "metadata": {},
   "outputs": [
    {
     "name": "stdout",
     "output_type": "stream",
     "text": [
      "digi\n",
      "digi\n"
     ]
    }
   ],
   "source": [
    "# getting a slice\n",
    "s = 'digipodium'\n",
    "slice1 = s[0:4]\n",
    "slice2 = s[:4]\n",
    "print(slice1)\n",
    "print(slice2)"
   ]
  },
  {
   "cell_type": "code",
   "execution_count": 18,
   "metadata": {},
   "outputs": [
    {
     "name": "stdout",
     "output_type": "stream",
     "text": [
      "podium\n",
      "digi\n"
     ]
    }
   ],
   "source": [
    "# getting a slice\n",
    "s = 'digipodium'\n",
    "slice1 = s[4:len(s)]\n",
    "slice2 = s[:4]\n",
    "print(slice1)\n",
    "print(slice2)\n"
   ]
  },
  {
   "cell_type": "code",
   "execution_count": null,
   "metadata": {},
   "outputs": [],
   "source": [
    "s = ''"
   ]
  },
  {
   "cell_type": "markdown",
   "metadata": {},
   "source": [
    "Bulitin function for string"
   ]
  },
  {
   "cell_type": "code",
   "execution_count": 20,
   "metadata": {},
   "outputs": [
    {
     "name": "stdout",
     "output_type": "stream",
     "text": [
      "A\n",
      "ऽ\n",
      "き\n"
     ]
    }
   ],
   "source": [
    "X = chr(65)\n",
    "print(X)\n",
    "X = chr(2365)\n",
    "print(X)\n",
    "X = chr(12365)\n",
    "print(X)\n"
   ]
  },
  {
   "cell_type": "code",
   "execution_count": 21,
   "metadata": {},
   "outputs": [
    {
     "name": "stdout",
     "output_type": "stream",
     "text": [
      "0|\u0000 \n",
      "1|\u0001 2|\u0002 3|\u0003 4|\u0004 5|\u0005 6|\u0006 7|\u0007 8 9|\t 10|\n",
      " \n",
      " 14|\u000e 15|\u000f 16|\u0010 17|\u0011 18|\u0012 19|\u0013 20|\u0014 \n",
      "21|\u0015 22|\u0016 23|\u0017 24|\u0018 25|\u0019 26|\u001a 27|\u001b 28|\u001c 29|\u001d 30|\u001e \n",
      "31|\u001f 32|  33|! 34|\" 35|# 36|$ 37|% 38|& 39|' 40|( \n",
      "41|) 42|* 43|+ 44|, 45|- 46|. 47|/ 48|0 49|1 50|2 \n",
      "51|3 52|4 53|5 54|6 55|7 56|8 57|9 58|: 59|; 60|< \n",
      "61|= 62|> 63|? 64|@ 65|A 66|B 67|C 68|D 69|E 70|F \n",
      "71|G 72|H 73|I 74|J 75|K 76|L 77|M 78|N 79|O 80|P \n",
      "81|Q 82|R 83|S 84|T 85|U 86|V 87|W 88|X 89|Y 90|Z \n",
      "91|[ 92|\\ 93|] 94|^ 95|_ 96|` 97|a 98|b 99|c 100|d \n",
      "101|e 102|f 103|g 104|h 105|i 106|j 107|k 108|l 109|m 110|n \n",
      "111|o 112|p 113|q 114|r 115|s 116|t 117|u 118|v 119|w 120|x \n",
      "121|y 122|z 123|{ 124|| 125|} 126|~ 127| 128| 129| 130| \n",
      "131| 132| 133| 134| 135| 136| 137| 138| 139| 140| \n",
      "141| 142| 143| 144| 145| 146| 147| 148| 149| 150| \n",
      "151| 152| 153| 154| 155| 156| 157| 158| 159| 160|  \n",
      "161|¡ 162|¢ 163|£ 164|¤ 165|¥ 166|¦ 167|§ 168|¨ 169|© 170|ª \n",
      "171|« 172|¬ 173|­ 174|® 175|¯ 176|° 177|± 178|² 179|³ 180|´ \n",
      "181|µ 182|¶ 183|· 184|¸ 185|¹ 186|º 187|» 188|¼ 189|½ 190|¾ \n",
      "191|¿ 192|À 193|Á 194|Â 195|Ã 196|Ä 197|Å 198|Æ 199|Ç 200|È \n",
      "201|É 202|Ê 203|Ë 204|Ì 205|Í 206|Î 207|Ï 208|Ð 209|Ñ 210|Ò \n",
      "211|Ó 212|Ô 213|Õ 214|Ö 215|× 216|Ø 217|Ù 218|Ú 219|Û 220|Ü \n",
      "221|Ý 222|Þ 223|ß 224|à 225|á 226|â 227|ã 228|ä 229|å 230|æ \n",
      "231|ç 232|è 233|é 234|ê 235|ë 236|ì 237|í 238|î 239|ï 240|ð \n",
      "241|ñ 242|ò 243|ó 244|ô 245|õ 246|ö 247|÷ 248|ø 249|ù 250|ú \n",
      "251|û 252|ü 253|ý 254|þ 255|ÿ "
     ]
    }
   ],
   "source": [
    "for i in range(256):\n",
    "    print(f\"{i}|{chr(i)}\",end=' ')\n",
    "    if i%10== 0:\n",
    "        print()"
   ]
  },
  {
   "cell_type": "code",
   "execution_count": 25,
   "metadata": {},
   "outputs": [
    {
     "name": "stdout",
     "output_type": "stream",
     "text": [
      "0 : \u0000 123\n",
      "1 : \u0001 2 : \u0002 3 : \u0003 4 : \u0004 5 : \u0005 6 : \u0006 7 : \u0007 8 : 9 : \t 10 : \n",
      " 123\n",
      " 14 : \u000e 15 : \u000f 16 : \u0010 17 : \u0011 18 : \u0012 19 : \u0013 20 : \u0014 123\n",
      "21 : \u0015 22 : \u0016 23 : \u0017 24 : \u0018 25 : \u0019 26 : \u001a 27 : \u001b 28 : \u001c 29 : \u001d 30 : \u001e 123\n",
      "31 : \u001f 32 :   33 : ! 34 : \" 35 : # 36 : $ 37 : % 38 : & 39 : ' 40 : ( 123\n",
      "41 : ) 42 : * 43 : + 44 : , 45 : - 46 : . 47 : / 48 : 0 49 : 1 50 : 2 123\n",
      "51 : 3 52 : 4 53 : 5 54 : 6 55 : 7 56 : 8 57 : 9 58 : : 59 : ; 60 : < 123\n",
      "61 : = 62 : > 63 : ? 64 : @ 65 : A 66 : B 67 : C 68 : D 69 : E 70 : F 123\n",
      "71 : G 72 : H 73 : I 74 : J 75 : K 76 : L 77 : M 78 : N 79 : O 80 : P 123\n",
      "81 : Q 82 : R 83 : S 84 : T 85 : U 86 : V 87 : W 88 : X 89 : Y 90 : Z 123\n",
      "91 : [ 92 : \\ 93 : ] 94 : ^ 95 : _ 96 : ` 97 : a 98 : b 99 : c 100 : d 123\n",
      "101 : e 102 : f 103 : g 104 : h 105 : i 106 : j 107 : k 108 : l 109 : m 110 : n 123\n",
      "111 : o 112 : p 113 : q 114 : r 115 : s 116 : t 117 : u 118 : v 119 : w 120 : x 123\n",
      "121 : y 122 : z 123 : { 124 : | 125 : } 126 : ~ 127 :  128 :  129 :  130 :  123\n",
      "131 :  132 :  133 :  134 :  135 :  136 :  137 :  138 :  139 :  140 :  123\n",
      "141 :  142 :  143 :  144 :  145 :  146 :  147 :  148 :  149 :  150 :  123\n",
      "151 :  152 :  153 :  154 :  155 :  156 :  157 :  158 :  159 :  160 :   123\n",
      "161 : ¡ 162 : ¢ 163 : £ 164 : ¤ 165 : ¥ 166 : ¦ 167 : § 168 : ¨ 169 : © 170 : ª 123\n",
      "171 : « 172 : ¬ 173 : ­ 174 : ® 175 : ¯ 176 : ° 177 : ± 178 : ² 179 : ³ 180 : ´ 123\n",
      "181 : µ 182 : ¶ 183 : · 184 : ¸ 185 : ¹ 186 : º 187 : » 188 : ¼ 189 : ½ 190 : ¾ 123\n",
      "191 : ¿ 192 : À 193 : Á 194 : Â 195 : Ã 196 : Ä 197 : Å 198 : Æ 199 : Ç 200 : È 123\n",
      "201 : É 202 : Ê 203 : Ë 204 : Ì 205 : Í 206 : Î 207 : Ï 208 : Ð 209 : Ñ 210 : Ò 123\n",
      "211 : Ó 212 : Ô 213 : Õ 214 : Ö 215 : × 216 : Ø 217 : Ù 218 : Ú 219 : Û 220 : Ü 123\n",
      "221 : Ý 222 : Þ 223 : ß 224 : à 225 : á 226 : â 227 : ã 228 : ä 229 : å 230 : æ 123\n",
      "231 : ç 232 : è 233 : é 234 : ê 235 : ë 236 : ì 237 : í 238 : î 239 : ï 240 : ð 123\n",
      "241 : ñ 242 : ò 243 : ó 244 : ô 245 : õ 246 : ö 247 : ÷ 248 : ø 249 : ù 250 : ú 123\n",
      "251 : û 252 : ü 253 : ý 254 : þ 255 : ÿ "
     ]
    }
   ],
   "source": [
    "for i in range(256):\n",
    "    print(f\"{i} : {chr(i)}\",end=' ')\n",
    "    if i%10== 0:\n",
    "        print(123)"
   ]
  },
  {
   "cell_type": "code",
   "execution_count": 26,
   "metadata": {},
   "outputs": [
    {
     "name": "stdout",
     "output_type": "stream",
     "text": [
      "7\n",
      "5\n",
      "4\n"
     ]
    }
   ],
   "source": [
    "print(len(\"amazing\"))\n",
    "print(len(\"world\"))\n",
    "size = len(\"hope\")\n",
    "print(size)"
   ]
  },
  {
   "cell_type": "code",
   "execution_count": 27,
   "metadata": {},
   "outputs": [
    {
     "data": {
      "text/plain": [
       "'ê'"
      ]
     },
     "execution_count": 27,
     "metadata": {},
     "output_type": "execute_result"
    }
   ],
   "source": [
    "chr(234)"
   ]
  },
  {
   "cell_type": "code",
   "execution_count": 29,
   "metadata": {},
   "outputs": [
    {
     "data": {
      "text/plain": [
       "'William Shakespear'"
      ]
     },
     "execution_count": 29,
     "metadata": {},
     "output_type": "execute_result"
    }
   ],
   "source": [
    "name[:] # 0 -> end"
   ]
  },
  {
   "cell_type": "code",
   "execution_count": 30,
   "metadata": {},
   "outputs": [
    {
     "data": {
      "text/plain": [
       "'raepsekahS mailliW'"
      ]
     },
     "execution_count": 30,
     "metadata": {},
     "output_type": "execute_result"
    }
   ],
   "source": [
    "name[::-1] # reverse"
   ]
  },
  {
   "cell_type": "code",
   "execution_count": 31,
   "metadata": {},
   "outputs": [
    {
     "data": {
      "text/plain": [
       "'WlimSaepa'"
      ]
     },
     "execution_count": 31,
     "metadata": {},
     "output_type": "execute_result"
    }
   ],
   "source": [
    "name[::2] # even indexs values"
   ]
  },
  {
   "cell_type": "code",
   "execution_count": 32,
   "metadata": {},
   "outputs": [
    {
     "data": {
      "text/plain": [
       "'ila hkser'"
      ]
     },
     "execution_count": 32,
     "metadata": {},
     "output_type": "execute_result"
    }
   ],
   "source": [
    "name[1::2] # odd indexes values"
   ]
  },
  {
   "cell_type": "code",
   "execution_count": 8,
   "metadata": {},
   "outputs": [
    {
     "name": "stdout",
     "output_type": "stream",
     "text": [
      "0 :\u0000 233\n",
      "1 :\u0001 2 :\u0002 3 :\u0003 4 :\u0004 5 :\u0005 6 :\u0006 7 :\u0007 8  9 :\t 10 :\n",
      " 233\n",
      " 14 :\u000e 15 :\u000f 16 :\u0010 17 :\u0011 18 :\u0012 19 :\u0013 20 :\u0014 233\n",
      "21 :\u0015 22 :\u0016 23 :\u0017 24 :\u0018 25 :\u0019 26 :\u001a 27 :\u001b 28 :\u001c 29 :\u001d 30 :\u001e 233\n",
      "31 :\u001f 32 :  33 :! 34 :\" 35 :# 36 :$ 37 :% 38 :& 39 :' 40 :( 233\n",
      "41 :) 42 :* 43 :+ 44 :, 45 :- 46 :. 47 :/ 48 :0 49 :1 50 :2 233\n",
      "51 :3 52 :4 53 :5 54 :6 55 :7 56 :8 57 :9 58 :: 59 :; 60 :< 233\n",
      "61 := 62 :> 63 :? 64 :@ 65 :A 66 :B 67 :C 68 :D 69 :E 70 :F 233\n",
      "71 :G 72 :H 73 :I 74 :J 75 :K 76 :L 77 :M 78 :N 79 :O 80 :P 233\n",
      "81 :Q 82 :R 83 :S 84 :T 85 :U 86 :V 87 :W 88 :X 89 :Y 90 :Z 233\n",
      "91 :[ 92 :\\ 93 :] 94 :^ 95 :_ 96 :` 97 :a 98 :b 99 :c 100 :d 233\n",
      "101 :e 102 :f 103 :g 104 :h 105 :i 106 :j 107 :k 108 :l 109 :m 110 :n 233\n",
      "111 :o 112 :p 113 :q 114 :r 115 :s 116 :t 117 :u 118 :v 119 :w 120 :x 233\n",
      "121 :y 122 :z 123 :{ 124 :| 125 :} 126 :~ 127 : 128 : 129 : 130 : 233\n",
      "131 : 132 : 133 : 134 : 135 : 136 : 137 : 138 : 139 : 140 : 233\n",
      "141 : 142 : 143 : 144 : 145 : 146 : 147 : 148 : 149 : 150 : 233\n",
      "151 : 152 : 153 : 154 : 155 : 156 : 157 : 158 : 159 : 160 :  233\n",
      "161 :¡ 162 :¢ 163 :£ 164 :¤ 165 :¥ 166 :¦ 167 :§ 168 :¨ 169 :© 170 :ª 233\n",
      "171 :« 172 :¬ 173 :­ 174 :® 175 :¯ 176 :° 177 :± 178 :² 179 :³ 180 :´ 233\n",
      "181 :µ 182 :¶ 183 :· 184 :¸ 185 :¹ 186 :º 187 :» 188 :¼ 189 :½ 190 :¾ 233\n",
      "191 :¿ 192 :À 193 :Á 194 :Â 195 :Ã 196 :Ä 197 :Å 198 :Æ 199 :Ç 200 :È 233\n",
      "201 :É 202 :Ê 203 :Ë 204 :Ì 205 :Í 206 :Î 207 :Ï 208 :Ð 209 :Ñ 210 :Ò 233\n",
      "211 :Ó 212 :Ô 213 :Õ 214 :Ö 215 :× 216 :Ø 217 :Ù 218 :Ú 219 :Û 220 :Ü 233\n",
      "221 :Ý 222 :Þ 223 :ß 224 :à 225 :á 226 :â 227 :ã 228 :ä 229 :å 230 :æ 233\n",
      "231 :ç 232 :è "
     ]
    }
   ],
   "source": [
    "for i in range(233):\n",
    "    print(f\"{i} :{chr(i)}\",end= \" \")\n",
    "    if i%10== 0:\n",
    "        print(233)\n",
    "    "
   ]
  },
  {
   "cell_type": "code",
   "execution_count": 9,
   "metadata": {},
   "outputs": [
    {
     "data": {
      "text/plain": [
       "'\\x18'"
      ]
     },
     "execution_count": 9,
     "metadata": {},
     "output_type": "execute_result"
    }
   ],
   "source": [
    "chr(24)"
   ]
  },
  {
   "cell_type": "code",
   "execution_count": 10,
   "metadata": {},
   "outputs": [
    {
     "data": {
      "text/plain": [
       "'à'"
      ]
     },
     "execution_count": 10,
     "metadata": {},
     "output_type": "execute_result"
    }
   ],
   "source": [
    "chr(224)"
   ]
  },
  {
   "cell_type": "code",
   "execution_count": 11,
   "metadata": {},
   "outputs": [
    {
     "data": {
      "text/plain": [
       "'ß'"
      ]
     },
     "execution_count": 11,
     "metadata": {},
     "output_type": "execute_result"
    }
   ],
   "source": [
    "chr(223)"
   ]
  },
  {
   "cell_type": "code",
   "execution_count": 12,
   "metadata": {},
   "outputs": [
    {
     "data": {
      "text/plain": [
       "'Ǉ'"
      ]
     },
     "execution_count": 12,
     "metadata": {},
     "output_type": "execute_result"
    }
   ],
   "source": [
    "chr(455)"
   ]
  },
  {
   "cell_type": "code",
   "execution_count": null,
   "metadata": {},
   "outputs": [],
   "source": []
  }
 ],
 "metadata": {
  "interpreter": {
   "hash": "dca92524b078aa222a0bed5aa292c1720541a13394a9b315a2edda4fd221f2d7"
  },
  "kernelspec": {
   "display_name": "Python 3.9.5 ('base')",
   "language": "python",
   "name": "python3"
  },
  "language_info": {
   "codemirror_mode": {
    "name": "ipython",
    "version": 3
   },
   "file_extension": ".py",
   "mimetype": "text/x-python",
   "name": "python",
   "nbconvert_exporter": "python",
   "pygments_lexer": "ipython3",
   "version": "3.9.5"
  },
  "orig_nbformat": 4
 },
 "nbformat": 4,
 "nbformat_minor": 2
}
